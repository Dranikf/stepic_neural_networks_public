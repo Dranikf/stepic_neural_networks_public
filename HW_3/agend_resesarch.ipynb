{
 "cells": [
  {
   "cell_type": "code",
   "execution_count": 5,
   "id": "7a14168c-1665-470a-91f1-27407d3cf454",
   "metadata": {},
   "outputs": [],
   "source": [
    "from cars.agent import SimpleCarAgent"
   ]
  },
  {
   "cell_type": "code",
   "execution_count": 9,
   "id": "57d535e7-4861-4293-8099-dea035e83da0",
   "metadata": {},
   "outputs": [
    {
     "data": {
      "text/plain": [
       "'\\n        Получить реакцию на последнее решение, принятое сетью, и проанализировать его\\n        :param reward: оценка внешним миром наших действий\\n        :param train_every: сколько нужно собрать наблюдений, прежде чем запустить обучение на несколько эпох\\n        :param reward_depth: на какую глубину по времени распространяется полученная награда\\n        '"
      ]
     },
     "execution_count": 9,
     "metadata": {},
     "output_type": "execute_result"
    }
   ],
   "source": [
    "my_agent = SimpleCarAgent()"
   ]
  },
  {
   "cell_type": "code",
   "execution_count": null,
   "id": "27fae460-a054-4e95-b0c7-e41439178cf9",
   "metadata": {},
   "outputs": [],
   "source": [
    "my_agent.receive_feedback"
   ]
  }
 ],
 "metadata": {
  "kernelspec": {
   "display_name": "Python 3 (ipykernel)",
   "language": "python",
   "name": "python3"
  },
  "language_info": {
   "codemirror_mode": {
    "name": "ipython",
    "version": 3
   },
   "file_extension": ".py",
   "mimetype": "text/x-python",
   "name": "python",
   "nbconvert_exporter": "python",
   "pygments_lexer": "ipython3",
   "version": "3.10.4"
  }
 },
 "nbformat": 4,
 "nbformat_minor": 5
}
